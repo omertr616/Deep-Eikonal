{
 "cells": [
  {
   "cell_type": "code",
   "execution_count": 15,
   "id": "8cd92179",
   "metadata": {},
   "outputs": [],
   "source": [
    "import pyvista as pv\n",
    "import numpy as np\n",
    "from scipy.sparse import csr_matrix\n"
   ]
  },
  {
   "cell_type": "code",
   "execution_count": 16,
   "id": "60925a7d",
   "metadata": {},
   "outputs": [],
   "source": [
    "def make_sphere(radius=1, nsub=4):\n",
    "    sphere = pv.Icosphere(radius=radius, nsub=nsub)  # More uniform\n",
    "\n",
    "    points = sphere.points.astype(np.float32)\n",
    "    faces = sphere.faces.reshape(-1, 4)[:, 1:]\n",
    "\n",
    "    n_points = len(points)\n",
    "    edge_set = set()\n",
    "    rows, cols, dists = [], [], []\n",
    "    edge_lengths = []\n",
    "\n",
    "    for tri in faces:\n",
    "        for i in range(3):\n",
    "            a, b = tri[i], tri[(i + 1) % 3]\n",
    "            edge = tuple(sorted((a, b)))\n",
    "            if edge not in edge_set:\n",
    "                edge_set.add(edge)\n",
    "                dist = np.linalg.norm(points[a] - points[b])\n",
    "                edge_lengths.append(dist)  \n",
    "                rows.extend([a, b])\n",
    "                cols.extend([b, a])\n",
    "                dists.extend([dist, dist])\n",
    "\n",
    "    graph = csr_matrix((dists, (rows, cols)), shape=(n_points, n_points))\n",
    "    h = np.mean(edge_lengths)\n",
    "    \n",
    "    # for i in range(10):  # Check the first 10 points\n",
    "    #     neighbors = graph[i].nonzero()[1]\n",
    "    #     print(f\"Point {i}: {len(neighbors)} neighbors -> {neighbors}\")\n",
    "\n",
    "    return graph, faces, points, sphere, h"
   ]
  },
  {
   "cell_type": "code",
   "execution_count": 17,
   "id": "c872e13f",
   "metadata": {},
   "outputs": [
    {
     "name": "stdout",
     "output_type": "stream",
     "text": [
      "Sphere with nsub=1:\n",
      "Number of points: 42\n",
      "Number of faces: 80\n",
      "Average edge length: 0.58\n",
      "\n",
      "Sphere with nsub=2:\n",
      "Number of points: 162\n",
      "Number of faces: 320\n",
      "Average edge length: 0.30\n",
      "\n",
      "Sphere with nsub=3:\n",
      "Number of points: 642\n",
      "Number of faces: 1280\n",
      "Average edge length: 0.15\n",
      "\n",
      "Sphere with nsub=4:\n",
      "Number of points: 2562\n",
      "Number of faces: 5120\n",
      "Average edge length: 0.08\n",
      "\n"
     ]
    },
    {
     "name": "stdout",
     "output_type": "stream",
     "text": [
      "Sphere with nsub=5:\n",
      "Number of points: 10242\n",
      "Number of faces: 20480\n",
      "Average edge length: 0.04\n",
      "\n",
      "Sphere with nsub=6:\n",
      "Number of points: 40962\n",
      "Number of faces: 81920\n",
      "Average edge length: 0.02\n",
      "\n",
      "Sphere with nsub=7:\n",
      "Number of points: 163842\n",
      "Number of faces: 327680\n",
      "Average edge length: 0.01\n",
      "\n"
     ]
    },
    {
     "ename": "KeyboardInterrupt",
     "evalue": "",
     "output_type": "error",
     "traceback": [
      "\u001b[0;31m---------------------------------------------------------------------------\u001b[0m",
      "\u001b[0;31mKeyboardInterrupt\u001b[0m                         Traceback (most recent call last)",
      "Cell \u001b[0;32mIn[17], line 2\u001b[0m\n\u001b[1;32m      1\u001b[0m \u001b[38;5;28;01mfor\u001b[39;00m i \u001b[38;5;129;01min\u001b[39;00m \u001b[38;5;28mrange\u001b[39m(\u001b[38;5;241m1\u001b[39m, \u001b[38;5;241m10\u001b[39m):\n\u001b[0;32m----> 2\u001b[0m     graph, faces, points, sphere, h \u001b[38;5;241m=\u001b[39m \u001b[43mmake_sphere\u001b[49m\u001b[43m(\u001b[49m\u001b[43mnsub\u001b[49m\u001b[38;5;241;43m=\u001b[39;49m\u001b[43mi\u001b[49m\u001b[43m)\u001b[49m\n\u001b[1;32m      3\u001b[0m     \u001b[38;5;28mprint\u001b[39m(\u001b[38;5;124mf\u001b[39m\u001b[38;5;124m\"\u001b[39m\u001b[38;5;124mSphere with nsub=\u001b[39m\u001b[38;5;132;01m{\u001b[39;00mi\u001b[38;5;132;01m}\u001b[39;00m\u001b[38;5;124m:\u001b[39m\u001b[38;5;124m\"\u001b[39m)\n\u001b[1;32m      4\u001b[0m     \u001b[38;5;28mprint\u001b[39m(\u001b[38;5;124mf\u001b[39m\u001b[38;5;124m\"\u001b[39m\u001b[38;5;124mNumber of points: \u001b[39m\u001b[38;5;132;01m{\u001b[39;00m\u001b[38;5;28mlen\u001b[39m(points)\u001b[38;5;132;01m}\u001b[39;00m\u001b[38;5;124m\"\u001b[39m)\n",
      "Cell \u001b[0;32mIn[16], line 18\u001b[0m, in \u001b[0;36mmake_sphere\u001b[0;34m(radius, nsub)\u001b[0m\n\u001b[1;32m     16\u001b[0m \u001b[38;5;28;01mif\u001b[39;00m edge \u001b[38;5;129;01mnot\u001b[39;00m \u001b[38;5;129;01min\u001b[39;00m edge_set:\n\u001b[1;32m     17\u001b[0m     edge_set\u001b[38;5;241m.\u001b[39madd(edge)\n\u001b[0;32m---> 18\u001b[0m     dist \u001b[38;5;241m=\u001b[39m np\u001b[38;5;241m.\u001b[39mlinalg\u001b[38;5;241m.\u001b[39mnorm(\u001b[43mpoints\u001b[49m\u001b[43m[\u001b[49m\u001b[43ma\u001b[49m\u001b[43m]\u001b[49m\u001b[43m \u001b[49m\u001b[38;5;241;43m-\u001b[39;49m\u001b[43m \u001b[49m\u001b[43mpoints\u001b[49m\u001b[43m[\u001b[49m\u001b[43mb\u001b[49m\u001b[43m]\u001b[49m)\n\u001b[1;32m     19\u001b[0m     edge_lengths\u001b[38;5;241m.\u001b[39mappend(dist)  \n\u001b[1;32m     20\u001b[0m     rows\u001b[38;5;241m.\u001b[39mextend([a, b])\n",
      "File \u001b[0;32m~/miniconda3/envs/cs236781-hw/lib/python3.8/site-packages/pyvista/core/pyvista_ndarray.py:114\u001b[0m, in \u001b[0;36mpyvista_ndarray.__array_wrap__\u001b[0;34m(self, out_arr, context, return_scalar)\u001b[0m\n\u001b[1;32m    111\u001b[0m     \u001b[38;5;28;01mif\u001b[39;00m dataset \u001b[38;5;129;01mis\u001b[39;00m \u001b[38;5;129;01mnot\u001b[39;00m \u001b[38;5;28;01mNone\u001b[39;00m \u001b[38;5;129;01mand\u001b[39;00m dataset\u001b[38;5;241m.\u001b[39mGet():\n\u001b[1;32m    112\u001b[0m         dataset\u001b[38;5;241m.\u001b[39mGet()\u001b[38;5;241m.\u001b[39mModified()\n\u001b[0;32m--> 114\u001b[0m \u001b[38;5;28;01mdef\u001b[39;00m \u001b[38;5;21m__array_wrap__\u001b[39m(\u001b[38;5;28mself\u001b[39m, out_arr, context\u001b[38;5;241m=\u001b[39m\u001b[38;5;28;01mNone\u001b[39;00m, return_scalar\u001b[38;5;241m=\u001b[39m\u001b[38;5;28;01mFalse\u001b[39;00m):\n\u001b[1;32m    115\u001b[0m \u001b[38;5;250m    \u001b[39m\u001b[38;5;124;03m\"\"\"Return a numpy scalar if array is 0d.\u001b[39;00m\n\u001b[1;32m    116\u001b[0m \n\u001b[1;32m    117\u001b[0m \u001b[38;5;124;03m    See https://github.com/numpy/numpy/issues/5819\u001b[39;00m\n\u001b[1;32m    118\u001b[0m \n\u001b[1;32m    119\u001b[0m \u001b[38;5;124;03m    \"\"\"\u001b[39;00m\n\u001b[1;32m    120\u001b[0m     \u001b[38;5;28;01mif\u001b[39;00m out_arr\u001b[38;5;241m.\u001b[39mndim:\n",
      "\u001b[0;31mKeyboardInterrupt\u001b[0m: "
     ]
    }
   ],
   "source": [
    "for i in range(1, 10):\n",
    "    graph, faces, points, sphere, h = make_sphere(nsub=i)\n",
    "    print(f\"Sphere with nsub={i}:\")\n",
    "    print(f\"Number of points: {len(points)}\")\n",
    "    print(f\"Number of faces: {len(faces)}\")\n",
    "    print(f\"Average edge length: {h:.2f}\")\n",
    "    print()"
   ]
  }
 ],
 "metadata": {
  "kernelspec": {
   "display_name": "cs236781-hw",
   "language": "python",
   "name": "python3"
  },
  "language_info": {
   "codemirror_mode": {
    "name": "ipython",
    "version": 3
   },
   "file_extension": ".py",
   "mimetype": "text/x-python",
   "name": "python",
   "nbconvert_exporter": "python",
   "pygments_lexer": "ipython3",
   "version": "3.8.12"
  }
 },
 "nbformat": 4,
 "nbformat_minor": 5
}
